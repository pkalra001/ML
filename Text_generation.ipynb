{
  "nbformat": 4,
  "nbformat_minor": 0,
  "metadata": {
    "colab": {
      "name": "Text_generation.ipynb",
      "provenance": [],
      "mount_file_id": "1e7M3v1hsdIHwP0q4tXg6feE5e9h433Yg",
      "authorship_tag": "ABX9TyPQSBaEOkip3SMyF1cMQCkt",
      "include_colab_link": true
    },
    "kernelspec": {
      "name": "python3",
      "display_name": "Python 3"
    },
    "accelerator": "GPU"
  },
  "cells": [
    {
      "cell_type": "markdown",
      "metadata": {
        "id": "view-in-github",
        "colab_type": "text"
      },
      "source": [
        "<a href=\"https://colab.research.google.com/github/pkalra001/ML/blob/master/Text_generation.ipynb\" target=\"_parent\"><img src=\"https://colab.research.google.com/assets/colab-badge.svg\" alt=\"Open In Colab\"/></a>"
      ]
    },
    {
      "cell_type": "code",
      "metadata": {
        "id": "sN0EZLg4Pp_3"
      },
      "source": [
        "import numpy as np\n",
        "import sys\n",
        "import tensorflow as tf\n",
        "from tensorflow import keras\n",
        "from tensorflow.keras.layers import Dense, Dropout, LSTM\n",
        "from tensorflow.keras.models import Sequential\n",
        "from tensorflow.keras.callbacks import ModelCheckpoint\n",
        "from tensorflow.keras import utils"
      ],
      "execution_count": null,
      "outputs": []
    },
    {
      "cell_type": "code",
      "metadata": {
        "id": "JlRlXj9pQX1D"
      },
      "source": [
        "text = open(\"alice.txt\", 'r', encoding = 'utf-8').read()\n",
        "text = text.lower()"
      ],
      "execution_count": null,
      "outputs": []
    },
    {
      "cell_type": "code",
      "metadata": {
        "id": "sdzpVujgXnUK"
      },
      "source": [
        "chars = sorted(list(set(text)))\n",
        "char_to_int = dict((char, idx) for idx, char in enumerate(chars))"
      ],
      "execution_count": null,
      "outputs": []
    },
    {
      "cell_type": "code",
      "metadata": {
        "id": "Yb81cMuzZKXc"
      },
      "source": [
        "n_chars = len(text)\n",
        "n_vocab = len(chars)\n",
        "sequence_length = 100\n",
        "data_X = []\n",
        "data_Y = []\n",
        "for i in range(0,n_chars - sequence_length):\n",
        "  input = text[i:i+sequence_length]\n",
        "  output = text[i+sequence_length]\n",
        "  data_X.append([char_to_int[j] for j in input])\n",
        "  data_Y.append(char_to_int[output])\n",
        "n_train = len(data_X)"
      ],
      "execution_count": null,
      "outputs": []
    },
    {
      "cell_type": "code",
      "metadata": {
        "colab": {
          "base_uri": "https://localhost:8080/"
        },
        "id": "ucr9QKCscOtO",
        "outputId": "f312f1ec-3882-475f-d646-5ba9c04fd555"
      },
      "source": [
        "print(n_chars)\n",
        "n_train"
      ],
      "execution_count": null,
      "outputs": [
        {
          "output_type": "stream",
          "text": [
            "164410\n"
          ],
          "name": "stdout"
        },
        {
          "output_type": "execute_result",
          "data": {
            "text/plain": [
              "164310"
            ]
          },
          "metadata": {
            "tags": []
          },
          "execution_count": 5
        }
      ]
    },
    {
      "cell_type": "code",
      "metadata": {
        "id": "NFb5QJjYcVTn"
      },
      "source": [
        "X = np.reshape(data_X, (n_train, sequence_length, 1))\n",
        "X = X / float(n_vocab)\n",
        "Y = utils.to_categorical(data_Y)"
      ],
      "execution_count": null,
      "outputs": []
    },
    {
      "cell_type": "code",
      "metadata": {
        "id": "Kq862ztTdDqz"
      },
      "source": [
        "model = Sequential()\n",
        "model.add(LSTM(256, input_shape = (X.shape[1], X.shape[2])))\n",
        "model.add(Dropout(0.2))\n",
        "model.add(Dense(Y.shape[1], activation = 'softmax'))\n",
        "model.compile(loss = \"categorical_crossentropy\", optimizer = 'adam')"
      ],
      "execution_count": null,
      "outputs": []
    },
    {
      "cell_type": "code",
      "metadata": {
        "id": "28wOwMlDd2ua"
      },
      "source": [
        "filepath  = \"/content/drive/MyDrive/Colab Notebooks/text_gen_weights/weights.{epoch:02d}-{loss:.2f}.hdf5\"\n",
        "checkpoint = ModelCheckpoint(filepath, monitor = 'loss', verbose = 1, save_best_only=True, mode = 'min')\n",
        "callbacks_list = [checkpoint]"
      ],
      "execution_count": null,
      "outputs": []
    },
    {
      "cell_type": "code",
      "metadata": {
        "colab": {
          "base_uri": "https://localhost:8080/"
        },
        "id": "MQsvQyr_rUgw",
        "outputId": "c2b064b5-d14e-4302-e6ad-a10b7b7a3bfa"
      },
      "source": [
        "model.fit(X, Y, epochs = 20, batch_size = 120, callbacks=callbacks_list)"
      ],
      "execution_count": null,
      "outputs": [
        {
          "output_type": "stream",
          "text": [
            "Epoch 1/20\n",
            "1370/1370 [==============================] - 19s 14ms/step - loss: 2.8411\n",
            "\n",
            "Epoch 00001: loss improved from inf to 2.84106, saving model to /content/drive/MyDrive/Colab Notebooks/text_gen_weights/weights.01-2.84.hdf5\n",
            "Epoch 2/20\n",
            "1370/1370 [==============================] - 19s 14ms/step - loss: 2.7614\n",
            "\n",
            "Epoch 00002: loss improved from 2.84106 to 2.76139, saving model to /content/drive/MyDrive/Colab Notebooks/text_gen_weights/weights.02-2.76.hdf5\n",
            "Epoch 3/20\n",
            "1370/1370 [==============================] - 19s 14ms/step - loss: 2.6963\n",
            "\n",
            "Epoch 00003: loss improved from 2.76139 to 2.69635, saving model to /content/drive/MyDrive/Colab Notebooks/text_gen_weights/weights.03-2.70.hdf5\n",
            "Epoch 4/20\n",
            "1370/1370 [==============================] - 19s 14ms/step - loss: 2.6330\n",
            "\n",
            "Epoch 00004: loss improved from 2.69635 to 2.63298, saving model to /content/drive/MyDrive/Colab Notebooks/text_gen_weights/weights.04-2.63.hdf5\n",
            "Epoch 5/20\n",
            "1370/1370 [==============================] - 19s 14ms/step - loss: 2.5744\n",
            "\n",
            "Epoch 00005: loss improved from 2.63298 to 2.57439, saving model to /content/drive/MyDrive/Colab Notebooks/text_gen_weights/weights.05-2.57.hdf5\n",
            "Epoch 6/20\n",
            "1370/1370 [==============================] - 19s 14ms/step - loss: 2.5218\n",
            "\n",
            "Epoch 00006: loss improved from 2.57439 to 2.52181, saving model to /content/drive/MyDrive/Colab Notebooks/text_gen_weights/weights.06-2.52.hdf5\n",
            "Epoch 7/20\n",
            "1370/1370 [==============================] - 19s 14ms/step - loss: 2.4742\n",
            "\n",
            "Epoch 00007: loss improved from 2.52181 to 2.47420, saving model to /content/drive/MyDrive/Colab Notebooks/text_gen_weights/weights.07-2.47.hdf5\n",
            "Epoch 8/20\n",
            "1370/1370 [==============================] - 19s 14ms/step - loss: 2.4329\n",
            "\n",
            "Epoch 00008: loss improved from 2.47420 to 2.43286, saving model to /content/drive/MyDrive/Colab Notebooks/text_gen_weights/weights.08-2.43.hdf5\n",
            "Epoch 9/20\n",
            "1370/1370 [==============================] - 19s 14ms/step - loss: 2.3917\n",
            "\n",
            "Epoch 00009: loss improved from 2.43286 to 2.39168, saving model to /content/drive/MyDrive/Colab Notebooks/text_gen_weights/weights.09-2.39.hdf5\n",
            "Epoch 10/20\n",
            "1370/1370 [==============================] - 19s 14ms/step - loss: 2.3552\n",
            "\n",
            "Epoch 00010: loss improved from 2.39168 to 2.35515, saving model to /content/drive/MyDrive/Colab Notebooks/text_gen_weights/weights.10-2.36.hdf5\n",
            "Epoch 11/20\n",
            "1370/1370 [==============================] - 19s 14ms/step - loss: 2.3199\n",
            "\n",
            "Epoch 00011: loss improved from 2.35515 to 2.31990, saving model to /content/drive/MyDrive/Colab Notebooks/text_gen_weights/weights.11-2.32.hdf5\n",
            "Epoch 12/20\n",
            "1370/1370 [==============================] - 19s 14ms/step - loss: 2.2853\n",
            "\n",
            "Epoch 00012: loss improved from 2.31990 to 2.28529, saving model to /content/drive/MyDrive/Colab Notebooks/text_gen_weights/weights.12-2.29.hdf5\n",
            "Epoch 13/20\n",
            "1370/1370 [==============================] - 19s 14ms/step - loss: 2.2549\n",
            "\n",
            "Epoch 00013: loss improved from 2.28529 to 2.25489, saving model to /content/drive/MyDrive/Colab Notebooks/text_gen_weights/weights.13-2.25.hdf5\n",
            "Epoch 14/20\n",
            "1370/1370 [==============================] - 19s 14ms/step - loss: 2.2249\n",
            "\n",
            "Epoch 00014: loss improved from 2.25489 to 2.22492, saving model to /content/drive/MyDrive/Colab Notebooks/text_gen_weights/weights.14-2.22.hdf5\n",
            "Epoch 15/20\n",
            "1370/1370 [==============================] - 19s 14ms/step - loss: 2.1965\n",
            "\n",
            "Epoch 00015: loss improved from 2.22492 to 2.19648, saving model to /content/drive/MyDrive/Colab Notebooks/text_gen_weights/weights.15-2.20.hdf5\n",
            "Epoch 16/20\n",
            "1370/1370 [==============================] - 19s 14ms/step - loss: 2.1702\n",
            "\n",
            "Epoch 00016: loss improved from 2.19648 to 2.17019, saving model to /content/drive/MyDrive/Colab Notebooks/text_gen_weights/weights.16-2.17.hdf5\n",
            "Epoch 17/20\n",
            "1370/1370 [==============================] - 19s 14ms/step - loss: 2.1428\n",
            "\n",
            "Epoch 00017: loss improved from 2.17019 to 2.14275, saving model to /content/drive/MyDrive/Colab Notebooks/text_gen_weights/weights.17-2.14.hdf5\n",
            "Epoch 18/20\n",
            "1370/1370 [==============================] - 19s 14ms/step - loss: 2.1202\n",
            "\n",
            "Epoch 00018: loss improved from 2.14275 to 2.12015, saving model to /content/drive/MyDrive/Colab Notebooks/text_gen_weights/weights.18-2.12.hdf5\n",
            "Epoch 19/20\n",
            "1370/1370 [==============================] - 19s 14ms/step - loss: 2.0964\n",
            "\n",
            "Epoch 00019: loss improved from 2.12015 to 2.09637, saving model to /content/drive/MyDrive/Colab Notebooks/text_gen_weights/weights.19-2.10.hdf5\n",
            "Epoch 20/20\n",
            "1370/1370 [==============================] - 19s 14ms/step - loss: 2.0777\n",
            "\n",
            "Epoch 00020: loss improved from 2.09637 to 2.07769, saving model to /content/drive/MyDrive/Colab Notebooks/text_gen_weights/weights.20-2.08.hdf5\n"
          ],
          "name": "stdout"
        },
        {
          "output_type": "execute_result",
          "data": {
            "text/plain": [
              "<tensorflow.python.keras.callbacks.History at 0x7f5cd37b2198>"
            ]
          },
          "metadata": {
            "tags": []
          },
          "execution_count": 16
        }
      ]
    },
    {
      "cell_type": "code",
      "metadata": {
        "id": "jhMC4B5lr8dR"
      },
      "source": [
        "file_weights = \"/content/drive/MyDrive/Colab Notebooks/text_gen_weights/weights.20-2.08.hdf5\"\n",
        "model.load_weights(file_weights)\n",
        "model.compile(loss = \"categorical_crossentropy\", optimizer = 'adam')"
      ],
      "execution_count": null,
      "outputs": []
    },
    {
      "cell_type": "code",
      "metadata": {
        "colab": {
          "base_uri": "https://localhost:8080/"
        },
        "id": "kdpHeFxNxRWf",
        "outputId": "0c644ab3-9d12-4dc4-9ece-2e63076ce352"
      },
      "source": [
        "int_to_char = dict((idx, char)for idx, char in enumerate(chars))\n",
        "random_seed = np.random.randint(0, n_train - 1)\n",
        "pattern = data_X[random_seed]\n",
        "seed_sentence = (\"\".join([int_to_char[idx] for idx in pattern]))\n",
        "print(seed_sentence)"
      ],
      "execution_count": null,
      "outputs": [
        {
          "output_type": "stream",
          "text": [
            "\n",
            "know,” he went on, spreading out the verses on his knee, and looking at\n",
            "them with one eye; “i seem \n"
          ],
          "name": "stdout"
        }
      ]
    },
    {
      "cell_type": "code",
      "metadata": {
        "colab": {
          "base_uri": "https://localhost:8080/"
        },
        "id": "tpJPqBcexlDW",
        "outputId": "8002f30a-6845-4add-8079-3ad5ad6d0fa0"
      },
      "source": [
        "for i in range(100):\n",
        "  x = np.reshape(pattern, (1, len(pattern), 1))\n",
        "  #print(x.shape)\n",
        "  x = x/float(n_vocab)\n",
        "  prediction = model.predict(x, verbose = 0)\n",
        "  index= np.argmax(prediction)\n",
        "  #print(index)\n",
        "  result = int_to_char[index]\n",
        "  sys.stdout.write(result)\n",
        "  #print(\"\\n\")\n",
        "  pattern.append(index)\n",
        "  #print(len(pattern))\n",
        "  pattern = pattern[1 : len(pattern)]\n",
        "  #print(len(pattern))"
      ],
      "execution_count": null,
      "outputs": [
        {
          "output_type": "stream",
          "text": [
            "to the wore of the soeer saa iu to toee a little oo the tait of the courors wien the meser hard and "
          ],
          "name": "stdout"
        }
      ]
    },
    {
      "cell_type": "code",
      "metadata": {
        "id": "2S-tVsnR7pMa"
      },
      "source": [
        "\n"
      ],
      "execution_count": null,
      "outputs": []
    }
  ]
}