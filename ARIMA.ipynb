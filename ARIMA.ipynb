{
  "nbformat": 4,
  "nbformat_minor": 0,
  "metadata": {
    "colab": {
      "name": "ARIMA.ipynb",
      "provenance": [],
      "authorship_tag": "ABX9TyPoFDcIsxLXcZsOV6RD6gLn",
      "include_colab_link": true
    },
    "kernelspec": {
      "name": "python3",
      "display_name": "Python 3"
    }
  },
  "cells": [
    {
      "cell_type": "markdown",
      "metadata": {
        "id": "view-in-github",
        "colab_type": "text"
      },
      "source": [
        "<a href=\"https://colab.research.google.com/github/pkalra001/ML/blob/master/ARIMA.ipynb\" target=\"_parent\"><img src=\"https://colab.research.google.com/assets/colab-badge.svg\" alt=\"Open In Colab\"/></a>"
      ]
    },
    {
      "cell_type": "code",
      "metadata": {
        "id": "jfKOYsmZrVqY"
      },
      "source": [
        "from sklearn.linear_model import LinearRegression\n",
        "import pandas as pd\n",
        "import numpy as np\n",
        "import nltk\n",
        "import scipy\n",
        "from statsmodels.tsa.statespace.sarimax import SARIMAX\n",
        "from statsmodels.tsa.arima_model import ARIMA\n",
        "from statsmodels.graphics.tsaplots import plot_acf, plot_pacf\n",
        "import matplotlib.pyplot as plt\n",
        "import datetime\n",
        "\n"
      ],
      "execution_count": null,
      "outputs": []
    },
    {
      "cell_type": "code",
      "metadata": {
        "colab": {
          "base_uri": "https://localhost:8080/"
        },
        "id": "F6GWPgw01O5I",
        "outputId": "677a4df5-1766-4f58-d027-494ae65a3b51"
      },
      "source": [
        "f = open(\"test.txt\")\n",
        "start = pd.to_datetime(f.readline().strip(\"\\n\"))\n",
        "end = pd.to_datetime(f.readline().strip(\"\\n\"))\n",
        "n_periods = int(f.readline().strip(\"\\n\"))\n",
        "#n_days = (end -start).days\n",
        "#n_periods = (n_days+1) * 24\n",
        "dt = pd.date_range(start = start, periods = n_periods, freq = 'H')\n",
        "#dt = pd.date_range(start = start, end = end, freq = 'H')\n",
        "data = []\n",
        "for _ in range(n_periods):\n",
        "  data.append(float(f.readline().rstrip(\"\\n\")))\n",
        "data\n",
        "n_days_predict = int(f.readline().rstrip(\"\\n\"))\n",
        "df = pd.DataFrame(data, index = dt)\n",
        "dt\n",
        "\n"
      ],
      "execution_count": null,
      "outputs": [
        {
          "output_type": "execute_result",
          "data": {
            "text/plain": [
              "DatetimeIndex(['2013-01-01 00:00:00', '2013-01-01 01:00:00',\n",
              "               '2013-01-01 02:00:00', '2013-01-01 03:00:00',\n",
              "               '2013-01-01 04:00:00', '2013-01-01 05:00:00',\n",
              "               '2013-01-01 06:00:00', '2013-01-01 07:00:00',\n",
              "               '2013-01-01 08:00:00', '2013-01-01 09:00:00',\n",
              "               '2013-01-01 10:00:00', '2013-01-01 11:00:00',\n",
              "               '2013-01-01 12:00:00', '2013-01-01 13:00:00',\n",
              "               '2013-01-01 14:00:00', '2013-01-01 15:00:00',\n",
              "               '2013-01-01 16:00:00', '2013-01-01 17:00:00',\n",
              "               '2013-01-01 18:00:00', '2013-01-01 19:00:00',\n",
              "               '2013-01-01 20:00:00', '2013-01-01 21:00:00',\n",
              "               '2013-01-01 22:00:00', '2013-01-01 23:00:00'],\n",
              "              dtype='datetime64[ns]', freq='H')"
            ]
          },
          "metadata": {
            "tags": []
          },
          "execution_count": 181
        }
      ]
    },
    {
      "cell_type": "code",
      "metadata": {
        "colab": {
          "base_uri": "https://localhost:8080/"
        },
        "id": "dZ97HWMktole",
        "outputId": "6ef11e98-b291-4487-d56a-3bf315fde799"
      },
      "source": [
        "df.shape"
      ],
      "execution_count": null,
      "outputs": [
        {
          "output_type": "execute_result",
          "data": {
            "text/plain": [
              "(24, 1)"
            ]
          },
          "metadata": {
            "tags": []
          },
          "execution_count": 135
        }
      ]
    },
    {
      "cell_type": "code",
      "metadata": {
        "colab": {
          "base_uri": "https://localhost:8080/",
          "height": 306
        },
        "id": "60Ub0HChplkf",
        "outputId": "fb7681fd-6bec-429f-8f54-7ba816ee69e2"
      },
      "source": [
        "df.plot()"
      ],
      "execution_count": null,
      "outputs": [
        {
          "output_type": "execute_result",
          "data": {
            "text/plain": [
              "<matplotlib.axes._subplots.AxesSubplot at 0x7fcfd530a7f0>"
            ]
          },
          "metadata": {
            "tags": []
          },
          "execution_count": 111
        },
        {
          "output_type": "display_data",
          "data": {
            "image/png": "[encoded data removed]",
            "text/plain": [
              "<Figure size 432x288 with 1 Axes>"
            ]
          },
          "metadata": {
            "tags": [],
            "needs_background": "light"
          }
        }
      ]
    },
    {
      "cell_type": "code",
      "metadata": {
        "id": "6b5s-OaJkU3u"
      },
      "source": [
        "diff = df[0].diff().dropna()"
      ],
      "execution_count": null,
      "outputs": []
    },
    {
      "cell_type": "code",
      "metadata": {
        "colab": {
          "base_uri": "https://localhost:8080/",
          "height": 428
        },
        "id": "pVBxx24xqSWx",
        "outputId": "ee2cf725-1fee-452a-b50c-9b72b0fe682e"
      },
      "source": [
        "fig, ax = plt.subplots(figsize = (14, 7))\n",
        "ax.plot(diff)\n",
        "plt.show()"
      ],
      "execution_count": null,
      "outputs": [
        {
          "output_type": "display_data",
          "data": {
            "image/png": "[encoded data removed]",
            "text/plain": [
              "<Figure size 1008x504 with 1 Axes>"
            ]
          },
          "metadata": {
            "tags": [],
            "needs_background": "light"
          }
        }
      ]
    },
    {
      "cell_type": "code",
      "metadata": {
        "colab": {
          "base_uri": "https://localhost:8080/",
          "height": 545
        },
        "id": "UFJ_KkCTqe-7",
        "outputId": "cca16916-c39c-46e0-b567-603886d38e4d"
      },
      "source": [
        "fig, ax1 = plt.subplots()\n",
        "plot_acf(diff, ax = ax1, lags = 22)"
      ],
      "execution_count": null,
      "outputs": [
        {
          "output_type": "execute_result",
          "data": {
            "image/png": "[encoded data removed]",
            "text/plain": [
              "<Figure size 432x288 with 1 Axes>"
            ]
          },
          "metadata": {
            "tags": []
          },
          "execution_count": 125
        },
        {
          "output_type": "display_data",
          "data": {
            "image/png": "[encoded data removed]",
            "text/plain": [
              "<Figure size 432x288 with 1 Axes>"
            ]
          },
          "metadata": {
            "tags": [],
            "needs_background": "light"
          }
        }
      ]
    },
    {
      "cell_type": "code",
      "metadata": {
        "colab": {
          "base_uri": "https://localhost:8080/",
          "height": 281
        },
        "id": "cylArHVkrDsA",
        "outputId": "a3c6326f-7612-472b-99bb-6e00c9765733"
      },
      "source": [
        "fig, ax1 = plt.subplots()\n",
        "plot_pacf(diff, ax = ax1, lags = 10);"
      ],
      "execution_count": null,
      "outputs": [
        {
          "output_type": "display_data",
          "data": {
            "image/png": "[encoded data removed]",
            "text/plain": [
              "<Figure size 432x288 with 1 Axes>"
            ]
          },
          "metadata": {
            "tags": [],
            "needs_background": "light"
          }
        }
      ]
    },
    {
      "cell_type": "code",
      "metadata": {
        "colab": {
          "base_uri": "https://localhost:8080/"
        },
        "id": "Pr4QImK5rWRx",
        "outputId": "84c44dfb-1af0-4ee2-ccd2-ee32842f0f01"
      },
      "source": [
        "order = (0, 1, 0)\n",
        "#seasonal_order = (1,0,1,2)\n",
        "next_day = pd.date_range(start = end, periods = 1, freq = 'D')\n",
        "#model_fit = SARIMAX(df[0], order = order, seasonal_order= seasonal_order, freq = 'H').fit(disp = 0)\n",
        "model_fit = ARIMA(df[0], order = order, freq = 'H').fit(disp = 0)\n",
        "dt_predict = pd.date_range(start = end + datetime.timedelta(days = 1), periods = n_days_predict * 24, freq = 'H')\n",
        "predicted = model_fit.predict(start = dt_predict[0], end =  dt_predict[-1], typ = 'levels')\n",
        "predicted.tolist()"
      ],
      "execution_count": null,
      "outputs": [
        {
          "output_type": "execute_result",
          "data": {
            "text/plain": [
              "[22.035652173913043,\n",
              " 21.521304347826085,\n",
              " 21.006956521739127,\n",
              " 20.49260869565217,\n",
              " 19.97826086956521,\n",
              " 19.463913043478254,\n",
              " 18.949565217391296,\n",
              " 18.435217391304338,\n",
              " 17.92086956521738,\n",
              " 17.406521739130422,\n",
              " 16.892173913043464,\n",
              " 16.377826086956507,\n",
              " 15.86347826086955,\n",
              " 15.349130434782595,\n",
              " 14.834782608695638,\n",
              " 14.320434782608682,\n",
              " 13.806086956521726,\n",
              " 13.29173913043477,\n",
              " 12.777391304347814,\n",
              " 12.263043478260858,\n",
              " 11.748695652173902,\n",
              " 11.234347826086946,\n",
              " 10.71999999999999,\n",
              " 10.205652173913034]"
            ]
          },
          "metadata": {
            "tags": []
          },
          "execution_count": 187
        }
      ]
    },
    {
      "cell_type": "code",
      "metadata": {
        "colab": {
          "base_uri": "https://localhost:8080/"
        },
        "id": "NxZ5GTdExu_R",
        "outputId": "c7190b5e-cc61-4005-ade3-cb040ab893b6"
      },
      "source": [
        "print(end)\n",
        "print(end + datetime.timedelta(days = 1))\n",
        "print(end + datetime.timedelta(days = n_days_predict))"
      ],
      "execution_count": null,
      "outputs": [
        {
          "output_type": "stream",
          "text": [
            "2013-01-01 00:00:00\n",
            "2013-01-02 00:00:00\n",
            "2013-01-02 00:00:00\n"
          ],
          "name": "stdout"
        }
      ]
    },
    {
      "cell_type": "code",
      "metadata": {
        "colab": {
          "base_uri": "https://localhost:8080/"
        },
        "id": "LdM-3yysyE6z",
        "outputId": "c79e286f-de2d-42bc-8731-8f06869e4c61"
      },
      "source": [
        "dt_predict = pd.date_range(start = end + datetime.timedelta(days = 1), periods = n_days_predict * 24, freq = 'H')\n",
        "dt_predict[0]"
      ],
      "execution_count": null,
      "outputs": [
        {
          "output_type": "execute_result",
          "data": {
            "text/plain": [
              "Timestamp('2013-01-02 00:00:00', freq='H')"
            ]
          },
          "metadata": {
            "tags": []
          },
          "execution_count": 177
        }
      ]
    },
    {
      "cell_type": "code",
      "metadata": {
        "colab": {
          "base_uri": "https://localhost:8080/"
        },
        "id": "9gm5Q0HZxgTO",
        "outputId": "5cfead4d-9eaf-41b7-8ba4-07dd1916f456"
      },
      "source": [
        "start + datetime.timedelta(days = 1)"
      ],
      "execution_count": null,
      "outputs": [
        {
          "output_type": "execute_result",
          "data": {
            "text/plain": [
              "Timestamp('2013-01-02 00:00:00')"
            ]
          },
          "metadata": {
            "tags": []
          },
          "execution_count": 166
        }
      ]
    },
    {
      "cell_type": "code",
      "metadata": {
        "colab": {
          "base_uri": "https://localhost:8080/"
        },
        "id": "5DucjPl0w5za",
        "outputId": "200f5423-49ff-4ed3-ef67-9a0be399a6a6"
      },
      "source": [
        "predicted"
      ],
      "execution_count": null,
      "outputs": [
        {
          "output_type": "execute_result",
          "data": {
            "text/plain": [
              "2013-01-02    22.035652\n",
              "Freq: H, dtype: float64"
            ]
          },
          "metadata": {
            "tags": []
          },
          "execution_count": 171
        }
      ]
    },
    {
      "cell_type": "code",
      "metadata": {
        "colab": {
          "base_uri": "https://localhost:8080/"
        },
        "id": "EWwnIGjrsQhr",
        "outputId": "45961193-caaf-4645-b440-7dc6e36bcff0"
      },
      "source": [
        "ans = pd.date_range(start = end, periods = 1, freq = 'D')\n",
        "ans"
      ],
      "execution_count": null,
      "outputs": [
        {
          "output_type": "execute_result",
          "data": {
            "text/plain": [
              "DatetimeIndex(['2013-01-01'], dtype='datetime64[ns]', freq='D')"
            ]
          },
          "metadata": {
            "tags": []
          },
          "execution_count": 132
        }
      ]
    },
    {
      "cell_type": "code",
      "metadata": {
        "colab": {
          "base_uri": "https://localhost:8080/"
        },
        "id": "9LFUwd9ywjb5",
        "outputId": "203dd023-f741-410d-e3c4-bffd96227423"
      },
      "source": [
        "end"
      ],
      "execution_count": null,
      "outputs": [
        {
          "output_type": "execute_result",
          "data": {
            "text/plain": [
              "Timestamp('2013-01-01 00:00:00')"
            ]
          },
          "metadata": {
            "tags": []
          },
          "execution_count": 162
        }
      ]
    },
    {
      "cell_type": "code",
      "metadata": {
        "colab": {
          "base_uri": "https://localhost:8080/"
        },
        "id": "iR2FscrpsRgh",
        "outputId": "bb4d34bc-8279-49db-b791-42e84fae770f"
      },
      "source": [
        "date = end + datetime.timedelta(days = 5)\n",
        "date"
      ],
      "execution_count": null,
      "outputs": [
        {
          "output_type": "execute_result",
          "data": {
            "text/plain": [
              "Timestamp('2013-01-06 00:00:00')"
            ]
          },
          "metadata": {
            "tags": []
          },
          "execution_count": 161
        }
      ]
    },
    {
      "cell_type": "code",
      "metadata": {
        "id": "qzMztP9iwTRB"
      },
      "source": [
        ""
      ],
      "execution_count": null,
      "outputs": []
    }
  ]
}