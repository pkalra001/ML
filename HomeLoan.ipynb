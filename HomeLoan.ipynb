{
  "nbformat": 4,
  "nbformat_minor": 0,
  "metadata": {
    "colab": {
      "name": "DMI_Finance_HomeLoan.ipynb",
      "provenance": [],
      "collapsed_sections": [],
      "authorship_tag": "ABX9TyNAPCv7FSgxOhB+5LNc59sK",
      "include_colab_link": true
    },
    "kernelspec": {
      "name": "python3",
      "display_name": "Python 3"
    }
  },
  "cells": [
    {
      "cell_type": "markdown",
      "metadata": {
        "id": "view-in-github",
        "colab_type": "text"
      },
      "source": [
        "<a href=\"https://colab.research.google.com/github/pkalra001/ML/blob/master/HomeLoan.ipynb\" target=\"_parent\"><img src=\"https://colab.research.google.com/assets/colab-badge.svg\" alt=\"Open In Colab\"/></a>"
      ]
    },
    {
      "cell_type": "code",
      "metadata": {
        "id": "2PHS_qgSHNbb"
      },
      "source": [
        "import numpy as np\n",
        "import pandas as pd\n",
        "import seaborn as sns\n",
        "import matplotlib.pyplot as plt\n",
        "from scipy.special import boxcox1p\n",
        "from scipy.stats import skew\n",
        "from sklearn.model_selection import GridSearchCV, ShuffleSplit, train_test_split, RandomizedSearchCV\n",
        "from sklearn.preprocessing import RobustScaler, OneHotEncoder\n",
        "from sklearn.svm import SVC\n",
        "from sklearn.linear_model import LogisticRegression\n",
        "from sklearn.pipeline import Pipeline\n",
        "from sklearn.metrics import accuracy_score\n",
        "from sklearn.impute import SimpleImputer\n",
        "from xgboost import XGBClassifier"
      ],
      "execution_count": null,
      "outputs": []
    },
    {
      "cell_type": "markdown",
      "metadata": {
        "id": "5XsrVisvT3y-"
      },
      "source": [
        "### GREETING THE DATA"
      ]
    },
    {
      "cell_type": "code",
      "metadata": {
        "colab": {
          "base_uri": "https://localhost:8080/",
          "height": 460
        },
        "id": "tsmtpX74HwO-",
        "outputId": "e029d59a-0c26-43e9-dfc1-55e7cd12e459"
      },
      "source": [
        "df = pd.read_csv(\"data_set.csv\")\n",
        "df"
      ],
      "execution_count": null,
      "outputs": [
        {
          "output_type": "execute_result",
          "data": {
            "text/html": [
              "<div>\n",
              "<style scoped>\n",
              "    .dataframe tbody tr th:only-of-type {\n",
              "        vertical-align: middle;\n",
              "    }\n",
              "\n",
              "    .dataframe tbody tr th {\n",
              "        vertical-align: top;\n",
              "    }\n",
              "\n",
              "    .dataframe thead th {\n",
              "        text-align: right;\n",
              "    }\n",
              "</style>\n",
              "<table border=\"1\" class=\"dataframe\">\n",
              "  <thead>\n",
              "    <tr style=\"text-align: right;\">\n",
              "      <th></th>\n",
              "      <th>Loan_ID</th>\n",
              "      <th>Gender</th>\n",
              "      <th>Married</th>\n",
              "      <th>Dependents</th>\n",
              "      <th>Education</th>\n",
              "      <th>Self_Employed</th>\n",
              "      <th>ApplicantIncome</th>\n",
              "      <th>CoapplicantIncome</th>\n",
              "      <th>Loamount</th>\n",
              "      <th>Loan_Amount_Term</th>\n",
              "      <th>Credit_History</th>\n",
              "      <th>Property_Area</th>\n",
              "      <th>Loan_Status</th>\n",
              "    </tr>\n",
              "  </thead>\n",
              "  <tbody>\n",
              "    <tr>\n",
              "      <th>0</th>\n",
              "      <td>LP001002</td>\n",
              "      <td>Male</td>\n",
              "      <td>No</td>\n",
              "      <td>0</td>\n",
              "      <td>Graduate</td>\n",
              "      <td>No</td>\n",
              "      <td>5849</td>\n",
              "      <td>0.0</td>\n",
              "      <td>NaN</td>\n",
              "      <td>360</td>\n",
              "      <td>1</td>\n",
              "      <td>Urban</td>\n",
              "      <td>Y</td>\n",
              "    </tr>\n",
              "    <tr>\n",
              "      <th>1</th>\n",
              "      <td>LP001003</td>\n",
              "      <td>Male</td>\n",
              "      <td>Yes</td>\n",
              "      <td>1</td>\n",
              "      <td>Graduate</td>\n",
              "      <td>No</td>\n",
              "      <td>4583</td>\n",
              "      <td>1508.0</td>\n",
              "      <td>128.0</td>\n",
              "      <td>360</td>\n",
              "      <td>1</td>\n",
              "      <td>Rural</td>\n",
              "      <td>N</td>\n",
              "    </tr>\n",
              "    <tr>\n",
              "      <th>2</th>\n",
              "      <td>LP001005</td>\n",
              "      <td>Male</td>\n",
              "      <td>Yes</td>\n",
              "      <td>0</td>\n",
              "      <td>Graduate</td>\n",
              "      <td>Yes</td>\n",
              "      <td>3000</td>\n",
              "      <td>0.0</td>\n",
              "      <td>66.0</td>\n",
              "      <td>360</td>\n",
              "      <td>1</td>\n",
              "      <td>Urban</td>\n",
              "      <td>Y</td>\n",
              "    </tr>\n",
              "    <tr>\n",
              "      <th>3</th>\n",
              "      <td>LP001006</td>\n",
              "      <td>Male</td>\n",
              "      <td>Yes</td>\n",
              "      <td>0</td>\n",
              "      <td>Not Graduate</td>\n",
              "      <td>No</td>\n",
              "      <td>2583</td>\n",
              "      <td>2358.0</td>\n",
              "      <td>120.0</td>\n",
              "      <td>360</td>\n",
              "      <td>1</td>\n",
              "      <td>Urban</td>\n",
              "      <td>Y</td>\n",
              "    </tr>\n",
              "    <tr>\n",
              "      <th>4</th>\n",
              "      <td>LP001008</td>\n",
              "      <td>Male</td>\n",
              "      <td>No</td>\n",
              "      <td>0</td>\n",
              "      <td>Graduate</td>\n",
              "      <td>No</td>\n",
              "      <td>6000</td>\n",
              "      <td>0.0</td>\n",
              "      <td>141.0</td>\n",
              "      <td>360</td>\n",
              "      <td>1</td>\n",
              "      <td>Urban</td>\n",
              "      <td>Y</td>\n",
              "    </tr>\n",
              "    <tr>\n",
              "      <th>...</th>\n",
              "      <td>...</td>\n",
              "      <td>...</td>\n",
              "      <td>...</td>\n",
              "      <td>...</td>\n",
              "      <td>...</td>\n",
              "      <td>...</td>\n",
              "      <td>...</td>\n",
              "      <td>...</td>\n",
              "      <td>...</td>\n",
              "      <td>...</td>\n",
              "      <td>...</td>\n",
              "      <td>...</td>\n",
              "      <td>...</td>\n",
              "    </tr>\n",
              "    <tr>\n",
              "      <th>976</th>\n",
              "      <td>LP002971</td>\n",
              "      <td>Male</td>\n",
              "      <td>Yes</td>\n",
              "      <td>3+</td>\n",
              "      <td>Not Graduate</td>\n",
              "      <td>Yes</td>\n",
              "      <td>4009</td>\n",
              "      <td>1777.0</td>\n",
              "      <td>113.0</td>\n",
              "      <td>360</td>\n",
              "      <td>1</td>\n",
              "      <td>Urban</td>\n",
              "      <td>Y</td>\n",
              "    </tr>\n",
              "    <tr>\n",
              "      <th>977</th>\n",
              "      <td>LP002975</td>\n",
              "      <td>Male</td>\n",
              "      <td>Yes</td>\n",
              "      <td>0</td>\n",
              "      <td>Graduate</td>\n",
              "      <td>No</td>\n",
              "      <td>4158</td>\n",
              "      <td>709.0</td>\n",
              "      <td>115.0</td>\n",
              "      <td>360</td>\n",
              "      <td>1</td>\n",
              "      <td>Urban</td>\n",
              "      <td>Y</td>\n",
              "    </tr>\n",
              "    <tr>\n",
              "      <th>978</th>\n",
              "      <td>LP002980</td>\n",
              "      <td>Male</td>\n",
              "      <td>No</td>\n",
              "      <td>0</td>\n",
              "      <td>Graduate</td>\n",
              "      <td>No</td>\n",
              "      <td>3250</td>\n",
              "      <td>1993.0</td>\n",
              "      <td>126.0</td>\n",
              "      <td>360</td>\n",
              "      <td>1</td>\n",
              "      <td>Semiurban</td>\n",
              "      <td>Y</td>\n",
              "    </tr>\n",
              "    <tr>\n",
              "      <th>979</th>\n",
              "      <td>LP002986</td>\n",
              "      <td>Male</td>\n",
              "      <td>Yes</td>\n",
              "      <td>0</td>\n",
              "      <td>Graduate</td>\n",
              "      <td>No</td>\n",
              "      <td>5000</td>\n",
              "      <td>2393.0</td>\n",
              "      <td>158.0</td>\n",
              "      <td>360</td>\n",
              "      <td>1</td>\n",
              "      <td>Rural</td>\n",
              "      <td>Y</td>\n",
              "    </tr>\n",
              "    <tr>\n",
              "      <th>980</th>\n",
              "      <td>LP002989</td>\n",
              "      <td>Male</td>\n",
              "      <td>No</td>\n",
              "      <td>0</td>\n",
              "      <td>Graduate</td>\n",
              "      <td>Yes</td>\n",
              "      <td>9200</td>\n",
              "      <td>0.0</td>\n",
              "      <td>98.0</td>\n",
              "      <td>180</td>\n",
              "      <td>1</td>\n",
              "      <td>Rural</td>\n",
              "      <td>Y</td>\n",
              "    </tr>\n",
              "  </tbody>\n",
              "</table>\n",
              "<p>981 rows × 13 columns</p>\n",
              "</div>"
            ],
            "text/plain": [
              "      Loan_ID Gender Married  ... Credit_History Property_Area Loan_Status\n",
              "0    LP001002   Male      No  ...              1         Urban           Y\n",
              "1    LP001003   Male     Yes  ...              1         Rural           N\n",
              "2    LP001005   Male     Yes  ...              1         Urban           Y\n",
              "3    LP001006   Male     Yes  ...              1         Urban           Y\n",
              "4    LP001008   Male      No  ...              1         Urban           Y\n",
              "..        ...    ...     ...  ...            ...           ...         ...\n",
              "976  LP002971   Male     Yes  ...              1         Urban           Y\n",
              "977  LP002975   Male     Yes  ...              1         Urban           Y\n",
              "978  LP002980   Male      No  ...              1     Semiurban           Y\n",
              "979  LP002986   Male     Yes  ...              1         Rural           Y\n",
              "980  LP002989   Male      No  ...              1         Rural           Y\n",
              "\n",
              "[981 rows x 13 columns]"
            ]
          },
          "metadata": {
            "tags": []
          },
          "execution_count": 349
        }
      ]
    },
    {
      "cell_type": "markdown",
      "metadata": {
        "id": "NHXYu_cDUN5p"
      },
      "source": [
        "Looking up the datatypes"
      ]
    },
    {
      "cell_type": "code",
      "metadata": {
        "colab": {
          "base_uri": "https://localhost:8080/"
        },
        "id": "kKuoNTCyIGbA",
        "outputId": "3f3cb9fd-37be-44ae-8189-c1c5684fb24d"
      },
      "source": [
        "df.info()"
      ],
      "execution_count": null,
      "outputs": [
        {
          "output_type": "stream",
          "text": [
            "<class 'pandas.core.frame.DataFrame'>\n",
            "RangeIndex: 981 entries, 0 to 980\n",
            "Data columns (total 13 columns):\n",
            " #   Column             Non-Null Count  Dtype  \n",
            "---  ------             --------------  -----  \n",
            " 0   Loan_ID            981 non-null    object \n",
            " 1   Gender             981 non-null    object \n",
            " 2   Married            981 non-null    object \n",
            " 3   Dependents         981 non-null    object \n",
            " 4   Education          981 non-null    object \n",
            " 5   Self_Employed      981 non-null    object \n",
            " 6   ApplicantIncome    981 non-null    int64  \n",
            " 7   CoapplicantIncome  981 non-null    float64\n",
            " 8   Loamount           954 non-null    float64\n",
            " 9   Loan_Amount_Term   981 non-null    int64  \n",
            " 10  Credit_History     981 non-null    int64  \n",
            " 11  Property_Area      981 non-null    object \n",
            " 12  Loan_Status        981 non-null    object \n",
            "dtypes: float64(2), int64(3), object(8)\n",
            "memory usage: 99.8+ KB\n"
          ],
          "name": "stdout"
        }
      ]
    },
    {
      "cell_type": "markdown",
      "metadata": {
        "id": "X2pWPbMWUZS_"
      },
      "source": [
        "Only 'Loamount' has null values. We will be imputing it after splitting the data to prevent data leakage."
      ]
    },
    {
      "cell_type": "code",
      "metadata": {
        "colab": {
          "base_uri": "https://localhost:8080/"
        },
        "id": "a9LFaYT0ID07",
        "outputId": "928048bb-d3d5-4bb7-e73f-17f67db17793"
      },
      "source": [
        "df.isnull().sum()"
      ],
      "execution_count": null,
      "outputs": [
        {
          "output_type": "execute_result",
          "data": {
            "text/plain": [
              "Loan_ID               0\n",
              "Gender                0\n",
              "Married               0\n",
              "Dependents            0\n",
              "Education             0\n",
              "Self_Employed         0\n",
              "ApplicantIncome       0\n",
              "CoapplicantIncome     0\n",
              "Loamount             27\n",
              "Loan_Amount_Term      0\n",
              "Credit_History        0\n",
              "Property_Area         0\n",
              "Loan_Status           0\n",
              "dtype: int64"
            ]
          },
          "metadata": {
            "tags": []
          },
          "execution_count": 351
        }
      ]
    },
    {
      "cell_type": "markdown",
      "metadata": {
        "id": "gzJ8BuiBU0LG"
      },
      "source": [
        "Value counts to identify the categories in the categorical columns. Credit_history had only two values but having int64 dtype so its been converted to object dtype."
      ]
    },
    {
      "cell_type": "code",
      "metadata": {
        "colab": {
          "base_uri": "https://localhost:8080/"
        },
        "id": "B4C00N3ZQqHS",
        "outputId": "87f2482c-c723-4e55-93c8-941c12efd0a5"
      },
      "source": [
        "for column in df.columns:\n",
        "  print(df[column].value_counts())"
      ],
      "execution_count": null,
      "outputs": [
        {
          "output_type": "stream",
          "text": [
            "LP001098    1\n",
            "LP001547    1\n",
            "LP002311    1\n",
            "LP001558    1\n",
            "LP002489    1\n",
            "           ..\n",
            "LP002083    1\n",
            "LP002326    1\n",
            "LP002086    1\n",
            "LP001653    1\n",
            "LP001868    1\n",
            "Name: Loan_ID, Length: 981, dtype: int64\n",
            "Male      799\n",
            "Female    182\n",
            "Name: Gender, dtype: int64\n",
            "Yes    634\n",
            "No     347\n",
            "Name: Married, dtype: int64\n",
            "0     570\n",
            "2     160\n",
            "1     160\n",
            "3+     91\n",
            "Name: Dependents, dtype: int64\n",
            "Graduate        763\n",
            "Not Graduate    218\n",
            "Name: Education, dtype: int64\n",
            "No     862\n",
            "Yes    119\n",
            "Name: Self_Employed, dtype: int64\n",
            "2500     13\n",
            "5000     11\n",
            "3333     10\n",
            "3500      9\n",
            "2600      8\n",
            "         ..\n",
            "14999     1\n",
            "4758      1\n",
            "4755      1\n",
            "4364      1\n",
            "3691      1\n",
            "Name: ApplicantIncome, Length: 752, dtype: int64\n",
            "0.0       429\n",
            "2500.0      6\n",
            "2083.0      5\n",
            "2000.0      5\n",
            "2333.0      5\n",
            "         ... \n",
            "1131.0      1\n",
            "4700.0      1\n",
            "2374.0      1\n",
            "5302.0      1\n",
            "3422.0      1\n",
            "Name: CoapplicantIncome, Length: 437, dtype: int64\n",
            "120.0    29\n",
            "110.0    27\n",
            "100.0    24\n",
            "187.0    21\n",
            "150.0    19\n",
            "         ..\n",
            "196.0     1\n",
            "400.0     1\n",
            "250.0     1\n",
            "500.0     1\n",
            "156.0     1\n",
            "Name: Loamount, Length: 232, dtype: int64\n",
            "360    843\n",
            "180     66\n",
            "480     23\n",
            "300     20\n",
            "240      8\n",
            "84       7\n",
            "120      4\n",
            "60       3\n",
            "36       3\n",
            "12       2\n",
            "350      1\n",
            "6        1\n",
            "Name: Loan_Amount_Term, dtype: int64\n",
            "1    833\n",
            "0    148\n",
            "Name: Credit_History, dtype: int64\n",
            "Semiurban    349\n",
            "Urban        342\n",
            "Rural        290\n",
            "Name: Property_Area, dtype: int64\n",
            "Y    722\n",
            "N    259\n",
            "Name: Loan_Status, dtype: int64\n"
          ],
          "name": "stdout"
        }
      ]
    },
    {
      "cell_type": "markdown",
      "metadata": {
        "id": "_A8RswtrVgr6"
      },
      "source": [
        "## PLOTTING THE DATA"
      ]
    },
    {
      "cell_type": "markdown",
      "metadata": {
        "id": "zHCTHkktVme0"
      },
      "source": [
        "Plotting categorical columns with the target variable 'Loan_Status'"
      ]
    },
    {
      "cell_type": "code",
      "metadata": {
        "colab": {
          "base_uri": "https://localhost:8080/",
          "height": 658
        },
        "id": "C4VkOXStL0IU",
        "outputId": "93ed9ddc-8608-4e48-bb59-8ea466ebcc27"
      },
      "source": [
        "df.drop('Loan_ID', axis = 1, inplace = True)\n",
        "df['Credit_History'] = df['Credit_History'].astype('object')\n",
        "categorical_columns = df.dtypes[df.dtypes == \"object\"].index.drop('Loan_Status')\n",
        "print(categorical_columns)\n",
        "fig, ax = plt.subplots(4,2, figsize = (15, 10))\n",
        "for index, column in enumerate(categorical_columns):\n",
        "  row, col = index//2, index%2\n",
        "  sns.countplot(x = column, data=df, hue='Loan_Status', ax = ax[row,col])\n",
        "  #print(column)\n",
        "\n",
        "plt.subplots_adjust(hspace=1)"
      ],
      "execution_count": null,
      "outputs": [
        {
          "output_type": "stream",
          "text": [
            "Index(['Gender', 'Married', 'Dependents', 'Education', 'Self_Employed',\n",
            "       'Credit_History', 'Property_Area'],\n",
            "      dtype='object')\n"
          ],
          "name": "stdout"
        },
        {
          "output_type": "display_data",
          "data": {
            "image/png": "[encoded data removed]",
            "text/plain": [
              "<Figure size 1080x720 with 8 Axes>"
            ]
          },
          "metadata": {
            "tags": [],
            "needs_background": "light"
          }
        }
      ]
    },
    {
      "cell_type": "markdown",
      "metadata": {
        "id": "BMhh5k_UV1Vf"
      },
      "source": [
        "# Inferences:\n",
        "1. Male applicants outnumber females by almost three times.\n",
        "2. Married candidates were granted loan more often.\n",
        "3. Candidates with no dependents applied for the loans mostly and were likely to be granted.\n",
        "4. Maximum applicants are educated and were more likely to be granted loan.\n",
        "5. Majority of the candidates are not self employed.\n",
        "6. Credit history leads to more approvals.\n",
        "7. Area doesnt seem to have much effect on the applicants and approvals\n"
      ]
    },
    {
      "cell_type": "markdown",
      "metadata": {
        "id": "GbYqrt-EYge3"
      },
      "source": [
        "Plotting the approvals vs non-approvals shows a class disbalance of almost 3x."
      ]
    },
    {
      "cell_type": "code",
      "metadata": {
        "colab": {
          "base_uri": "https://localhost:8080/",
          "height": 281
        },
        "id": "HVCXMUmIhHzQ",
        "outputId": "23af214b-e9bf-42c6-c9e7-0bd5ab030d92"
      },
      "source": [
        "df['Loan_Status'].value_counts().plot(kind = 'bar')"
      ],
      "execution_count": null,
      "outputs": [
        {
          "output_type": "execute_result",
          "data": {
            "text/plain": [
              "<matplotlib.axes._subplots.AxesSubplot at 0x7fd38b0e0438>"
            ]
          },
          "metadata": {
            "tags": []
          },
          "execution_count": 354
        },
        {
          "output_type": "display_data",
          "data": {
            "image/png": "[encoded data removed]",
            "text/plain": [
              "<Figure size 432x288 with 1 Axes>"
            ]
          },
          "metadata": {
            "tags": [],
            "needs_background": "light"
          }
        }
      ]
    },
    {
      "cell_type": "markdown",
      "metadata": {
        "id": "xA3DLOVRYYpR"
      },
      "source": [
        "Plotting the numerical columns"
      ]
    },
    {
      "cell_type": "code",
      "metadata": {
        "colab": {
          "base_uri": "https://localhost:8080/",
          "height": 706
        },
        "id": "5jThXI1OXR-B",
        "outputId": "8cfd709d-2009-462e-9083-659ea3a092d4"
      },
      "source": [
        "pd.plotting.scatter_matrix(df, figsize = (6,6), diagonal = 'kde')"
      ],
      "execution_count": null,
      "outputs": [
        {
          "output_type": "execute_result",
          "data": {
            "text/plain": [
              "array([[<matplotlib.axes._subplots.AxesSubplot object at 0x7fd38b6a2240>,\n",
              "        <matplotlib.axes._subplots.AxesSubplot object at 0x7fd38bb27898>,\n",
              "        <matplotlib.axes._subplots.AxesSubplot object at 0x7fd38bfc6668>,\n",
              "        <matplotlib.axes._subplots.AxesSubplot object at 0x7fd38b968908>],\n",
              "       [<matplotlib.axes._subplots.AxesSubplot object at 0x7fd38b90fe48>,\n",
              "        <matplotlib.axes._subplots.AxesSubplot object at 0x7fd38b9382b0>,\n",
              "        <matplotlib.axes._subplots.AxesSubplot object at 0x7fd38db0e828>,\n",
              "        <matplotlib.axes._subplots.AxesSubplot object at 0x7fd38db04e48>],\n",
              "       [<matplotlib.axes._subplots.AxesSubplot object at 0x7fd38db042e8>,\n",
              "        <matplotlib.axes._subplots.AxesSubplot object at 0x7fd38db8ce10>,\n",
              "        <matplotlib.axes._subplots.AxesSubplot object at 0x7fd38e2ffa58>,\n",
              "        <matplotlib.axes._subplots.AxesSubplot object at 0x7fd38998dcc0>],\n",
              "       [<matplotlib.axes._subplots.AxesSubplot object at 0x7fd38e9c7cc0>,\n",
              "        <matplotlib.axes._subplots.AxesSubplot object at 0x7fd38e86efd0>,\n",
              "        <matplotlib.axes._subplots.AxesSubplot object at 0x7fd38dbc4358>,\n",
              "        <matplotlib.axes._subplots.AxesSubplot object at 0x7fd38bd592e8>]],\n",
              "      dtype=object)"
            ]
          },
          "metadata": {
            "tags": []
          },
          "execution_count": 355
        },
        {
          "output_type": "display_data",
          "data": {
            "image/png": "[encoded data removed]",
            "text/plain": [
              "<Figure size 432x432 with 16 Axes>"
            ]
          },
          "metadata": {
            "tags": [],
            "needs_background": "light"
          }
        }
      ]
    },
    {
      "cell_type": "markdown",
      "metadata": {
        "id": "WN8e9u-2ZIUo"
      },
      "source": [
        "KDE plots above show that most of the numerical data is skewed."
      ]
    },
    {
      "cell_type": "markdown",
      "metadata": {
        "id": "diLoZNqVZMeU"
      },
      "source": [
        "# PREPROCESSING"
      ]
    },
    {
      "cell_type": "markdown",
      "metadata": {
        "id": "bkcCnJfJZT9B"
      },
      "source": [
        "Calculating the skewness in the data."
      ]
    },
    {
      "cell_type": "code",
      "metadata": {
        "colab": {
          "base_uri": "https://localhost:8080/",
          "height": 167
        },
        "id": "u5DjS6AVgp2b",
        "outputId": "84e0ac65-0a04-42c8-a35d-0c0edbf8195e"
      },
      "source": [
        "numeric_features = df.dtypes[df.dtypes != \"object\"].index\n",
        "skewed_feats = df[numeric_features].apply(lambda x: skew(x.dropna())).sort_values(ascending=False)\n",
        "skewness = pd.DataFrame({'Skew' :skewed_feats})\n",
        "skewness"
      ],
      "execution_count": null,
      "outputs": [
        {
          "output_type": "execute_result",
          "data": {
            "text/html": [
              "<div>\n",
              "<style scoped>\n",
              "    .dataframe tbody tr th:only-of-type {\n",
              "        vertical-align: middle;\n",
              "    }\n",
              "\n",
              "    .dataframe tbody tr th {\n",
              "        vertical-align: top;\n",
              "    }\n",
              "\n",
              "    .dataframe thead th {\n",
              "        text-align: right;\n",
              "    }\n",
              "</style>\n",
              "<table border=\"1\" class=\"dataframe\">\n",
              "  <thead>\n",
              "    <tr style=\"text-align: right;\">\n",
              "      <th></th>\n",
              "      <th>Skew</th>\n",
              "    </tr>\n",
              "  </thead>\n",
              "  <tbody>\n",
              "    <tr>\n",
              "      <th>ApplicantIncome</th>\n",
              "      <td>7.076120</td>\n",
              "    </tr>\n",
              "    <tr>\n",
              "      <th>CoapplicantIncome</th>\n",
              "      <td>6.833639</td>\n",
              "    </tr>\n",
              "    <tr>\n",
              "      <th>Loamount</th>\n",
              "      <td>2.709767</td>\n",
              "    </tr>\n",
              "    <tr>\n",
              "      <th>Loan_Amount_Term</th>\n",
              "      <td>-2.509884</td>\n",
              "    </tr>\n",
              "  </tbody>\n",
              "</table>\n",
              "</div>"
            ],
            "text/plain": [
              "                       Skew\n",
              "ApplicantIncome    7.076120\n",
              "CoapplicantIncome  6.833639\n",
              "Loamount           2.709767\n",
              "Loan_Amount_Term  -2.509884"
            ]
          },
          "metadata": {
            "tags": []
          },
          "execution_count": 356
        }
      ]
    },
    {
      "cell_type": "markdown",
      "metadata": {
        "id": "olO9E34cZbgB"
      },
      "source": [
        "Reducing the skewness using log transformations."
      ]
    },
    {
      "cell_type": "code",
      "metadata": {
        "id": "JOB4SUDgGb-I"
      },
      "source": [
        "skewness = skewness[abs(skewness) > 0.75]\n",
        "skewed_features = skewness.index\n",
        "lam = 0.15\n",
        "for feat in skewed_features:\n",
        "    df[feat] = boxcox1p(df[feat], lam)"
      ],
      "execution_count": null,
      "outputs": []
    },
    {
      "cell_type": "markdown",
      "metadata": {
        "id": "qDE6peZgZyxl"
      },
      "source": [
        "Correlation plot is plotted after the log transformations."
      ]
    },
    {
      "cell_type": "code",
      "metadata": {
        "colab": {
          "base_uri": "https://localhost:8080/",
          "height": 373
        },
        "id": "2HAtfzjQS_K_",
        "outputId": "045eb5fb-1b3f-451a-c708-668955e9421b"
      },
      "source": [
        "#plt.figure(figsize = (20, 20))\n",
        "sns.heatmap(df.corr(), annot = True, square = True)"
      ],
      "execution_count": null,
      "outputs": [
        {
          "output_type": "execute_result",
          "data": {
            "text/plain": [
              "<matplotlib.axes._subplots.AxesSubplot at 0x7fd38db2b978>"
            ]
          },
          "metadata": {
            "tags": []
          },
          "execution_count": 358
        },
        {
          "output_type": "display_data",
          "data": {
            "image/png": "[encoded data removed]",
            "text/plain": [
              "<Figure size 432x288 with 2 Axes>"
            ]
          },
          "metadata": {
            "tags": [],
            "needs_background": "light"
          }
        }
      ]
    },
    {
      "cell_type": "markdown",
      "metadata": {
        "id": "XNhU9YSEaBLM"
      },
      "source": [
        "There is not any significant correlations between the features."
      ]
    },
    {
      "cell_type": "markdown",
      "metadata": {
        "id": "y3fPAYJlaP6h"
      },
      "source": [
        "Hot encoding the target variable 'Loan_Status' and making a dictionary with mapping to convert back from encodings to 'Y' or 'N'."
      ]
    },
    {
      "cell_type": "code",
      "metadata": {
        "id": "IonNKmXTJe0E"
      },
      "source": [
        "df['target'] = df['Loan_Status'].factorize()[0]\n",
        "status_target_dict = dict(df[['target', 'Loan_Status']].drop_duplicates().sort_values('target').values)\n",
        "df.drop(['Loan_Status'], axis = 1, inplace = True)"
      ],
      "execution_count": null,
      "outputs": []
    },
    {
      "cell_type": "markdown",
      "metadata": {
        "id": "UidO8JVralfv"
      },
      "source": [
        "Splitting with stratify to ensure the balanced splitting."
      ]
    },
    {
      "cell_type": "code",
      "metadata": {
        "id": "nRoBhVevH7UB"
      },
      "source": [
        "x_train, x_test, y_train, y_test = train_test_split(df.drop('target', axis = 1), df['target'], test_size = 0.1, random_state = 23, stratify = df['target'])"
      ],
      "execution_count": null,
      "outputs": []
    },
    {
      "cell_type": "markdown",
      "metadata": {
        "id": "K6YkAWTCas2D"
      },
      "source": [
        "Imputing the null values with medians. Imputing with respective medians ensures no data leakage."
      ]
    },
    {
      "cell_type": "code",
      "metadata": {
        "id": "toQiUBReOMMf"
      },
      "source": [
        "x_train['Loamount'] = x_train['Loamount'].fillna(x_train['Loamount'].median()) \n",
        "x_test['Loamount'] = x_test['Loamount'].fillna(x_test['Loamount'].median())"
      ],
      "execution_count": null,
      "outputs": []
    },
    {
      "cell_type": "markdown",
      "metadata": {
        "id": "2MHIad7ObRXv"
      },
      "source": [
        "Data frame has been encoded using the sklearn's one hot encoder instead of pandas' get_dummies because the latter can't handle new categories in the test data which were not present in the train data."
      ]
    },
    {
      "cell_type": "code",
      "metadata": {
        "id": "ISmEpK_zXQYd"
      },
      "source": [
        "encoder = OneHotEncoder(handle_unknown = 'ignore', sparse = False)\n",
        "encoder.fit(x_train[x_train.select_dtypes(include = 'object').columns])\n",
        "train_trans = encoder.transform(x_train[x_train.select_dtypes(include = 'object').columns])\n",
        "test_trans = encoder.transform(x_test[x_test.select_dtypes(include = 'object').columns])\n",
        "X = pd.DataFrame(train_trans)\n",
        "test = pd.DataFrame(test_trans)\n",
        "X = pd.concat([X, x_train.reset_index(drop = True)], axis = 1)\n",
        "test = pd.concat([test, x_test.reset_index(drop = True)], axis = 1)\n",
        "X.drop(X.select_dtypes(include = 'object').columns, axis = 1, inplace = True)\n",
        "test.drop(test.select_dtypes(include = 'object').columns, axis = 1, inplace = True)"
      ],
      "execution_count": null,
      "outputs": []
    },
    {
      "cell_type": "markdown",
      "metadata": {
        "id": "7xpAFS9odGSl"
      },
      "source": [
        "The number of features is not large so I would be skipping feature selection both ways i.e. before modelling and after modelling."
      ]
    },
    {
      "cell_type": "markdown",
      "metadata": {
        "id": "2LEDNOC4dd2A"
      },
      "source": [
        "# MODELLING"
      ]
    },
    {
      "cell_type": "markdown",
      "metadata": {
        "id": "WLhBrFwrcnk0"
      },
      "source": [
        "Deciding the split strategy."
      ]
    },
    {
      "cell_type": "code",
      "metadata": {
        "id": "8s6ygTmFdrH1"
      },
      "source": [
        "cv_split = ShuffleSplit(n_splits = 5, test_size = 0.2, train_size = 0.75, random_state = 0)"
      ],
      "execution_count": null,
      "outputs": []
    },
    {
      "cell_type": "markdown",
      "metadata": {
        "id": "3tqt4srqjmYg"
      },
      "source": [
        "For Logistic Regression the data needs to be scaled so I will be using pipeline to handle the scaling on the train and cv data automatically. RobustScaler has been used to handle the outliers better."
      ]
    },
    {
      "cell_type": "code",
      "metadata": {
        "colab": {
          "base_uri": "https://localhost:8080/"
        },
        "id": "Q19iOqRVfhXN",
        "outputId": "0f13e2ca-ec46-4ed8-d8ef-cb014402bd6e"
      },
      "source": [
        "pipe_lr = Pipeline([('scaler', RobustScaler()), ('lr', LogisticRegression())])\n",
        "param_grid_lr = [{'lr__C' : [0.1, 1, 10]}]\n",
        "best_search_lr = GridSearchCV(estimator = pipe_lr, param_grid = param_grid_lr, cv = cv_split, scoring = 'accuracy', n_jobs = -1)\n",
        "best_search_lr.fit(X, y_train)\n",
        "print(\"Best parameters for SVC : {}\".format(best_search_lr.best_params_))\n",
        "print(\"Cross-validation score for SVC : {}\".format(best_search_lr.best_score_))\n",
        "print(\"Test score for SVC : {}\".format(accuracy_score(y_test, best_search_lr.predict(test))))"
      ],
      "execution_count": null,
      "outputs": [
        {
          "output_type": "stream",
          "text": [
            "Best parameters for SVC : {'lr__C': 0.1}\n",
            "Cross-validation score for SVC : 0.8858757062146893\n",
            "Test score for SVC : 0.898989898989899\n"
          ],
          "name": "stdout"
        }
      ]
    },
    {
      "cell_type": "markdown",
      "metadata": {
        "id": "Bbzb0o1DdjSU"
      },
      "source": [
        "SVM will employed with the similary strategy as Logistic Regression "
      ]
    },
    {
      "cell_type": "code",
      "metadata": {
        "colab": {
          "base_uri": "https://localhost:8080/"
        },
        "id": "6783fskQi05l",
        "outputId": "12cf8cfe-bd8f-4a73-9a97-eac57ff4fbe2"
      },
      "source": [
        "pipe_SVC = Pipeline([('scaler', RobustScaler()), ('SVC', SVC())])\n",
        "param_grid_SVC = [{'SVC__C' : [0.1, 1, 10]}]\n",
        "best_search_SVC = GridSearchCV(estimator = pipe_SVC, param_grid = param_grid, cv = cv_split, scoring = 'accuracy', n_jobs = -1)\n",
        "best_search_SVC.fit(X, y_train)\n",
        "print(\"Best parameters for SVC : {}\".format(best_search_SVC.best_params_))\n",
        "print(\"Cross-validation score for SVC : {}\".format(best_search_SVC.best_score_))\n",
        "print(\"Test score for SVC : {}\".format(accuracy_score(y_test, best_search_SVC.predict(test))))"
      ],
      "execution_count": null,
      "outputs": [
        {
          "output_type": "stream",
          "text": [
            "Best parameters for SVC : {'SVC__C': 1}\n",
            "Cross-validation score for SVC : 0.8858757062146893\n",
            "Test score for SVC : 0.898989898989899\n"
          ],
          "name": "stdout"
        }
      ]
    },
    {
      "cell_type": "markdown",
      "metadata": {
        "id": "PJSQzTYJj2--"
      },
      "source": [
        "XGB has been tuned with randomized search "
      ]
    },
    {
      "cell_type": "code",
      "metadata": {
        "colab": {
          "base_uri": "https://localhost:8080/"
        },
        "id": "s_SqVgbMwryp",
        "outputId": "77d14050-9be1-4099-a9bb-c17aa76e7101"
      },
      "source": [
        "random_grid_xgb = {\n",
        "        'silent': [False],\n",
        "        'max_depth': [3, 6, 10],\n",
        "        'learning_rate': [ 0.01, 0.05, 0.1, 0.2],\n",
        "        'subsample': [0.5, 0.7, 0.9],\n",
        "        'colsample_bytree': [0.4, 0.7, 0.9],\n",
        "        'colsample_bylevel': [0.4, 0.7, 0.9],\n",
        "        'min_child_weight': [0.5, 1.0, 5.0, 7.0, 10.0],\n",
        "        'gamma': [0, 0.5, 1, 5],\n",
        "        'reg_lambda': [0.1, 1.0, 10.0, 50.0],\n",
        "        'n_estimators': [1000, 3000]}\n",
        "\n",
        "xgb_random = RandomizedSearchCV(estimator = XGBClassifier(random_state = 38), param_distributions = random_grid_xgb, \n",
        "                               scoring = 'accuracy', n_iter = 60, cv = cv_split, verbose=3, random_state=38, n_jobs = -1)\n",
        "xgb_random.fit(X, y_train)\n",
        "print(\"Best parameters for XGB : {}\".format(xgb_random.best_params_))\n",
        "print(\"Cross-validation score for XGB : {}\".format(xgb_random.best_score_))\n",
        "print(\"Test score for XGB : {}\".format(accuracy_score(y_test, xgb_random.predict(test))))"
      ],
      "execution_count": null,
      "outputs": [
        {
          "output_type": "stream",
          "text": [
            "Fitting 5 folds for each of 60 candidates, totalling 300 fits\n"
          ],
          "name": "stdout"
        },
        {
          "output_type": "stream",
          "text": [
            "[Parallel(n_jobs=-1)]: Using backend LokyBackend with 2 concurrent workers.\n",
            "[Parallel(n_jobs=-1)]: Done  28 tasks      | elapsed:   14.2s\n",
            "[Parallel(n_jobs=-1)]: Done 124 tasks      | elapsed:  1.1min\n",
            "[Parallel(n_jobs=-1)]: Done 284 tasks      | elapsed:  3.0min\n",
            "[Parallel(n_jobs=-1)]: Done 300 out of 300 | elapsed:  3.2min finished\n"
          ],
          "name": "stderr"
        },
        {
          "output_type": "stream",
          "text": [
            "Best parameters for XGB : {'subsample': 0.7, 'silent': False, 'reg_lambda': 10.0, 'n_estimators': 3000, 'min_child_weight': 5.0, 'max_depth': 3, 'learning_rate': 0.01, 'gamma': 0.5, 'colsample_bytree': 0.9, 'colsample_bylevel': 0.7}\n",
            "Cross-validation score for XGB : 0.8870056497175142\n",
            "Test score for XGB : 0.8888888888888888\n"
          ],
          "name": "stdout"
        }
      ]
    },
    {
      "cell_type": "markdown",
      "metadata": {
        "id": "HnxGhzyWkFwF"
      },
      "source": [
        "Random Forest have been employed with randomized search too. As expected it was quite slow."
      ]
    },
    {
      "cell_type": "code",
      "metadata": {
        "colab": {
          "base_uri": "https://localhost:8080/"
        },
        "id": "gTi5l12-f3WT",
        "outputId": "85b07d63-93f5-4ac0-e463-bb1c7f5ef5de"
      },
      "source": [
        "n_estimators = [int(x) for x in np.linspace(start = 200, stop = 2000, num = 10)]\n",
        "max_features = ['auto', 'sqrt']\n",
        "max_depth = [int(x) for x in np.linspace(10, 110, num = 11)]\n",
        "max_depth.append(None)\n",
        "min_samples_split = [2, 5, 10]\n",
        "min_samples_leaf = [1, 2, 4]\n",
        "bootstrap = [True, False]\n",
        "random_grid_rf = {'n_estimators': n_estimators,\n",
        "               'max_features': max_features,\n",
        "               'max_depth': max_depth,\n",
        "               'min_samples_split': min_samples_split,\n",
        "               'min_samples_leaf': min_samples_leaf,\n",
        "               'bootstrap': bootstrap}\n",
        "\n",
        "rf_random = RandomizedSearchCV(estimator = RandomForestClassifier(random_state = 42), param_distributions = random_grid_rf, \n",
        "                               n_iter = 60, cv = cv_split, verbose=2, random_state=42, n_jobs = -1)\n",
        "rf_random.fit(X, y_train)\n",
        "print(\"Best parameters for Random Forest : {}\".format(rf_random.best_params_))\n",
        "print(\"Cross-validation score for Random Forest : {}\".format(rf_random.best_score_))\n",
        "print(\"Test score for Random Forest : {}\".format(accuracy_score(y_test, rf_random.predict(test))))"
      ],
      "execution_count": null,
      "outputs": [
        {
          "output_type": "stream",
          "text": [
            "Fitting 5 folds for each of 60 candidates, totalling 300 fits\n"
          ],
          "name": "stdout"
        },
        {
          "output_type": "stream",
          "text": [
            "[Parallel(n_jobs=-1)]: Using backend LokyBackend with 2 concurrent workers.\n",
            "[Parallel(n_jobs=-1)]: Done  37 tasks      | elapsed:   55.7s\n",
            "[Parallel(n_jobs=-1)]: Done 158 tasks      | elapsed:  3.9min\n",
            "[Parallel(n_jobs=-1)]: Done 300 out of 300 | elapsed:  6.8min finished\n"
          ],
          "name": "stderr"
        },
        {
          "output_type": "stream",
          "text": [
            "Best parameters for Random Forest : {'n_estimators': 1200, 'min_samples_split': 5, 'min_samples_leaf': 2, 'max_features': 'sqrt', 'max_depth': 10, 'bootstrap': False}\n",
            "Cross-validation score for Random Forest : 0.8858757062146893\n",
            "Test score for Random Forest : 0.898989898989899\n"
          ],
          "name": "stdout"
        }
      ]
    }
  ]
}